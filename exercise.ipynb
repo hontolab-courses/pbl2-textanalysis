{
 "cells": [
  {
   "cell_type": "markdown",
   "id": "612f62c1-75ee-4e13-bc99-324e5b8c2a07",
   "metadata": {},
   "source": [
    "# 実践的テキストデータ分析の演習（基礎編）\n",
    "\n",
    "この演習では，日本の歌謡曲の歌詞データを対象に分析を行う．\n",
    "\n",
    "使用するデータは，山本が収集・整形したオリコンランキングの歌詞データである（※学内ネットワークからのみアクセス可能）．\n",
    "[オリコンランキング](https://www.oricon.co.jp/rank/)は，日本で最も知名度のある音楽ヒットランキングである．\n",
    "オリコンランキングの一つに[年間シングル売り上げランキング](https://www.oricon.co.jp/rank/js/y/2024/)というものがあり，ある年のシングル曲売り上げを集計し，そのランキングを1968年から公開し続けている．\n",
    "\n",
    "[こちらのリンク](https://www.ds.nagoya-cu.ac.jp/~yamamoto/download/jsong-lyrics/data.zip)からダウンロードできるファイル`data.zip`内には，ある年度のシングル曲売り上げ上位30件の曲の歌詞の情報が記された[TSVファイル](https://ja.wikipedia.org/wiki/Tab-Separated_Values)が1968年から2024年分まで納められている（歌詞提供サイトの都合上，一部の曲が抜け落ちている）．\n",
    "ファイル名は`{順位}_{アーティスト名}_{曲名}.tsv`の形式となっている．\n",
    "例えば`tokenized/2024`年のフォルダに格納された`01_Snow Man_LOVE TRIGGER.tsv`というファイルは，「2024年のシングル売り上げ1位はSnow ManがリリースしたLOVE TRIGGERという曲」についての歌詞情報が記録されている．\n",
    "\n",
    "また，各TSVファイルには，ファイル名に関する曲の歌詞を品詞単位で分割し，分割された単語に関する情報が一行ごとに格納されている．\n",
    "例えば，以下は`data/tokenized/2018/`フォルダにある`18_米津玄師_Lemon.tsv`ファイルの冒頭10行である．\n",
    "\n",
    "```\n",
    "夢\t夢\t名詞\t一般\n",
    "なら\tだ\t助動詞\t*\n",
    "ば\tば\t助詞\t接続助詞\n",
    "どれほど\tどれほど\t副詞\t一般\n",
    "よかっ\tよい\t形容詞\t自立\n",
    "た\tた\t助動詞\t*\n",
    "でしょ\tです\t助動詞\t*\n",
    "う\tう\t助動詞\t*\n",
    "未だに\t未だに\t副詞\t一般\n",
    "あなた\tあなた\t名詞\t代名詞\n",
    "\n",
    "```\n",
    "\n",
    "行は歌詞に出現した単語に対応しており，出現順に並んでいる．\n",
    "各行のテキストは（見えないが）タブ文字（\\t）で区切られており，左から順に\n",
    "- 活用形（歌詞中で実際に使われた形）\n",
    "- 原形（辞書に載る基本形）\n",
    "- 品詞（名詞・動詞など）\n",
    "- 品詞詳細（助詞・代名詞などの細分類）\n",
    "\n",
    "に関する情報が入っている．\n",
    "例えば，上の例では5行目の情報からは\n",
    "- 米津玄師作のLemonの歌詞で5番目に出現する単語は「よかっ」で\n",
    "- 品詞は「形容詞」，原形は「よい」である\n",
    "\n",
    "ということが読み取れる．"
   ]
  },
  {
   "cell_type": "markdown",
   "id": "5b5e62c6-afb0-476f-a989-34fa7d2a1b26",
   "metadata": {},
   "source": [
    "## 準備\n",
    "以下のコードを実行すると，演習で用いるファイルをダウンロードし，`data/tokenized`フォルダにデータを展開できる．\n",
    "\n",
    "1. `data.zip`ファイルをまだダウンロードしていない人は，何も考えずに以下のコードを実行してください．\n",
    "2. `data.zip`ファイルを既にダウンロードした人，あるいはファイルを自力でダウンロードする人は，以下の手順をスキップしてください．"
   ]
  },
  {
   "cell_type": "code",
   "execution_count": null,
   "id": "01f570a1-d199-4760-ae57-176df588e179",
   "metadata": {},
   "outputs": [],
   "source": [
    "import os\n",
    "import requests\n",
    "import shutil\n",
    "\n",
    "# ダウンロードURL\n",
    "DATA_URL = 'https://www.ds.nagoya-cu.ac.jp/~yamamoto/download/jsong-lyrics/data.zip'\n",
    "\n",
    "# データをダウンロード（要学内ネットワーク）\n",
    "print(\"[STEP] ダウンロード開始（学内のみ）...\")\n",
    "downloaded_data = requests.get(DATA_URL).content\n",
    "with open(f'data.zip', mode='wb') as f: # wb でバイト型を書き込める\n",
    "  f.write(downloaded_data)\n",
    "\n",
    "# Zipファイル解凍\n",
    "print(\"[STEP] 解凍中...\")\n",
    "shutil.unpack_archive('data.zip', '.')\n",
    "\n",
    "# ゴミファイルの削除\n",
    "print(\"[STEP] 余分ファイル削除中...\")\n",
    "for year in range(1968, 2025):\n",
    "    for filename in os.listdir(f'data/tokenized/{year}'):\n",
    "        if not filename.endswith('.tsv'):\n",
    "            os.remove(f'data/tokenized/{year}/{filename}')\n",
    "\n",
    "# ダウンロードしたzipファイルを削除\n",
    "os.remove('data.zip')\n",
    "print(\"[DONE] data/tokenized/ にTSVが展開されました。\")"
   ]
  },
  {
   "cell_type": "markdown",
   "id": "e13944a1-a129-4c93-8f19-51a0c66cbe0c",
   "metadata": {},
   "source": [
    "## 演習の進め方\n",
    "\n",
    "上記を踏まえて，以下の課題に取り組みなさい．\n",
    "\n",
    "課題コンテンツは以下の2種類の要素で構成されている：\n",
    "- 提出課題：実データを扱う本番問題（採点対象），全部で5つ\n",
    "- 練習問題：提出課題を解くための基礎練習\n",
    "  \n",
    "練習を飛ばして提出課題に挑戦しても構いません．\n",
    "提出課題が難しいと感じる場合は，練習問題から順に進めるのが効果的です．"
   ]
  },
  {
   "cell_type": "markdown",
   "id": "e07992c6-2fa4-4a34-b75f-a3f79b78241f",
   "metadata": {},
   "source": [
    "---"
   ]
  },
  {
   "cell_type": "markdown",
   "id": "16b2de88-923a-40c0-9b81-abf7187f9de3",
   "metadata": {},
   "source": [
    "## 課題41"
   ]
  },
  {
   "cell_type": "markdown",
   "id": "811650fc-eb0e-4164-8ba8-a36ca2ecdd4b",
   "metadata": {},
   "source": [
    "#### 練習41-A: 文字列を区切る\n",
    "\n",
    "学生に読んだ本を毎日記録し1週間ごとに報告するよう依頼した．\n",
    "依頼の際，データ分析の都合上，読んだ本をカンマ（,）で区切って書くようお願いした．\n",
    "その結果，学生Xから先週読んだ本の情報について以下のような内容が送られてきた：\n",
    "\n",
    "```\n",
    "コンビニ人間,ノルウェイの森,変身,ノルウェイの森,夜は短し歩けよ乙女,コンビニ人間,ノルウェイの森\n",
    "```\n",
    "\n",
    "今，上記内容を以下のように変数`text`に格納したとしよう．\n",
    "`text`の内容をカンマで区切り，本の名前を要素とするリスト`books`を作成するコードを書きなさい．\n",
    "\n",
    "```\n",
    "text = \"コンビニ人間,ノルウェイの森,変身,ノルウェイの森,夜は短し歩けよ乙女,コンビニ人間,ノルウェイの森\"\n",
    "```\n",
    "\n",
    "##### 関連する事項: [str.split](https://note.nkmk.me/python-split-rsplit-splitlines-re/)"
   ]
  },
  {
   "cell_type": "code",
   "execution_count": null,
   "id": "4bfd2ae6-4d01-4a94-a03a-b843163142d6",
   "metadata": {},
   "outputs": [],
   "source": [
    "text = \"コンビニ人間,ノルウェイの森,変身,ノルウェイの森,夜は短し歩けよ乙女,コンビニ人間,ノルウェイの森\"\n",
    "\n",
    "# Write your code below\n"
   ]
  },
  {
   "cell_type": "markdown",
   "id": "971d6df8-d2e8-4202-8082-426ce19ad14c",
   "metadata": {},
   "source": [
    "#### 練習41-B: 辞書データの作成（リストのループ/setdefault）\n",
    "\n",
    "以下のリストは，学生Yが1週間に読んだ本のタイトルである．\n",
    "それぞれの本が何回読まれたかの情報について，変数`book_frequency`に辞書型データとして格納しなさい．\n",
    "\n",
    "```\n",
    "books = [\"ハリーポッター\", \"ハリーポッター\", \"進撃の巨人\", \"ワンピース\", \"進撃の巨人\", \"ワンピース\", \"ワンピース\"]\n",
    "```\n",
    "\n",
    "##### 関連する事項: [リストのループ](https://qiita.com/motoki1990/items/d06fc7559546a8471392), [dict.setdefault](https://note.nkmk.me/python-dict-setdefault/)"
   ]
  },
  {
   "cell_type": "code",
   "execution_count": null,
   "id": "1944af48-6571-48e0-9261-517c51bf4275",
   "metadata": {},
   "outputs": [],
   "source": [
    "books = [\"ハリーポッター\", \"ハリーポッター\", \"進撃の巨人\", \"ワンピース\", \"進撃の巨人\", \"ワンピース\", \"ワンピース\"]\n",
    "\n",
    "# Write your code below\n",
    "book_frequency = {}"
   ]
  },
  {
   "cell_type": "markdown",
   "id": "eb32cd24-90ff-4a48-90c6-7f497654679a",
   "metadata": {},
   "source": [
    "#### 練習41-C: 辞書のソート\n",
    "\n",
    "練習41-Cで作成した辞書データを用いて，学生Yが読んだ本のタイトルと読書回数を回数が多い順に表示するコードを書きなさい．\n",
    "\n",
    "##### 関連する事項: [sorted](https://note.nkmk.me/python-dict-list-sort/)\n"
   ]
  },
  {
   "cell_type": "code",
   "execution_count": null,
   "id": "636d53c1-01bc-4b49-b80a-e997030a5dec",
   "metadata": {},
   "outputs": [],
   "source": [
    "# Write your code\n"
   ]
  },
  {
   "cell_type": "markdown",
   "id": "2eb1f682-b753-4923-9eb3-c201c2d32db5",
   "metadata": {},
   "source": [
    "### ☆課題41（提出課題）\n",
    "2019年のシングル曲売り上げ上位30件（のファイル名）を調べ，ランキング30位以内に入った回数が最も多いアーティストを表示するコードを書きなさい．\n",
    "\n",
    "##### 関連する事項: [os.listdir](https://note.nkmk.me/python-listdir-isfile-isdir/)\n"
   ]
  },
  {
   "cell_type": "markdown",
   "id": "303e1669-aa33-49d7-8d97-63a024dde1c6",
   "metadata": {},
   "source": [
    "##### ヒント\n",
    "指定したフォルダ（ディレクトリ）の中にあるファイルの一覧を取得するには，`os`モジュールの`listdir`関数を使うとよい．\n",
    "以下は，`data/tokenized/2024`という場所にあるフォルダ内にあるファイル一覧を取得するコードの例である．"
   ]
  },
  {
   "cell_type": "code",
   "execution_count": null,
   "id": "328b9344-e352-4107-95d2-4f5c5fd9605f",
   "metadata": {},
   "outputs": [],
   "source": [
    "import os\n",
    "\n",
    "dir_path = 'data/tokenized/2024'\n",
    "filenames = os.listdir(dir_path)\n",
    "\n",
    "print(filenames)"
   ]
  },
  {
   "cell_type": "code",
   "execution_count": null,
   "id": "3128fadc-0ef0-419b-bebc-c26c11cf9a00",
   "metadata": {},
   "outputs": [],
   "source": [
    "import os\n",
    "\n",
    "dir_path = 'data/tokenized/2024'\n",
    "filenames = os.listdir(dir_path)\n",
    "\n",
    "# Write your code below\n"
   ]
  },
  {
   "cell_type": "markdown",
   "id": "8ca07e4e-55c4-40ff-ba31-515ca7828a24",
   "metadata": {},
   "source": [
    "---"
   ]
  },
  {
   "cell_type": "markdown",
   "id": "bfee110b-669d-48f9-ad43-d737d1b4efd4",
   "metadata": {},
   "source": [
    "## 課題42"
   ]
  },
  {
   "cell_type": "markdown",
   "id": "3bf72825-ba5b-4b9f-bdba-91e0c5896f50",
   "metadata": {},
   "source": [
    "#### 練習42-A: リスト/辞書のループ\n",
    "\n",
    "以下のデータは，いくつかの架空のスポーツ大会において優勝した大学の名前を年ごとにまとめたものである．\n",
    "ご覧の通り，変数`results`に格納されたデータは（Pythonの）辞書型データである．\n",
    "\n",
    "\n",
    "```\n",
    "results = {\n",
    "    \"2021\": [\"A大学\", \"B大学\", \"A大学\", \"C大学\"],\n",
    "    \"2022\": [\"B大学\", \"B大学\", \"C大学\", \"A大学\"],\n",
    "    \"2023\": [\"A大学\", \"C大学\", \"C大学\", \"D大学\"]\n",
    "}\n",
    "```\n",
    "\n",
    "変数`results`に格納されたデータを用いて，キーを「大学名」，値を「優勝回数」とする辞書型データ`frequency_win`を作成するコードを書きなさい．\n",
    "\n",
    "\n",
    "##### 関連する事項: [辞書のループ](https://note.nkmk.me/python-dict-keys-values-items/), [dict.setdefault](https://note.nkmk.me/python-dict-setdefault/)"
   ]
  },
  {
   "cell_type": "code",
   "execution_count": null,
   "id": "e48c8f54-65ec-44f4-81a0-068cac04f089",
   "metadata": {},
   "outputs": [],
   "source": [
    "results = {\n",
    "    \"2021\": [\"A大学\", \"B大学\", \"A大学\", \"C大学\"],\n",
    "    \"2022\": [\"B大学\", \"B大学\", \"C大学\", \"A大学\"],\n",
    "    \"2023\": [\"A大学\", \"C大学\", \"C大学\", \"D大学\"]\n",
    "}\n",
    "\n",
    "# Write your code below\n",
    "frequency_win = {}\n"
   ]
  },
  {
   "cell_type": "markdown",
   "id": "106bd95c-a119-465f-a47c-387d5f516154",
   "metadata": {},
   "source": [
    "#### 練習42-B: 辞書のソート\n",
    "\n",
    "練習42-Aで変数`frequency_win`に格納したデータを用いて，優勝回数の下位3大学を表示するコードを書きなさい．\n",
    "\n",
    "##### 関連する事項: [sorted](https://note.nkmk.me/python-dict-list-sort/), [スライスによるリストのアクセス](https://note.nkmk.me/python-slice-usage/)"
   ]
  },
  {
   "cell_type": "code",
   "execution_count": null,
   "id": "d17f9fc2-6a1e-454d-bdfa-f825b3a9c16d",
   "metadata": {},
   "outputs": [],
   "source": [
    "# Write your code below\n"
   ]
  },
  {
   "cell_type": "markdown",
   "id": "d2d717f5-af18-4ae3-902a-31285557f35f",
   "metadata": {},
   "source": [
    "### ☆課題42（提出課題）\n",
    "1968年から2024年までのシングル曲売り上げ上位30件（のファイル名）を調べ，ランキング30位以内に入った回数が多いアーティストの上位10件を表示するコードを書きなさい．\n",
    "\n",
    "##### 関連する事項: [range](https://note.nkmk.me/python-range-usage/), [os.listdir](https://note.nkmk.me/python-listdir-isfile-isdir/), [str.split](https://note.nkmk.me/python-split-rsplit-splitlines-re/)"
   ]
  },
  {
   "cell_type": "code",
   "execution_count": null,
   "id": "9fa12442-8e78-43a8-b708-791dd4a8432e",
   "metadata": {},
   "outputs": [],
   "source": [
    "import os\n",
    "\n",
    "# Write your code below\n"
   ]
  },
  {
   "cell_type": "markdown",
   "id": "b065d4e3-aa67-40f3-b25b-37f2805cf132",
   "metadata": {},
   "source": [
    "---"
   ]
  },
  {
   "cell_type": "markdown",
   "id": "fc2579c2-fd36-41d6-a2bd-2177c533716e",
   "metadata": {},
   "source": [
    "## 課題43"
   ]
  },
  {
   "cell_type": "markdown",
   "id": "99ecd21c-ab4e-48a5-99d8-f690de3cb9ee",
   "metadata": {},
   "source": [
    "#### 練習43-A: ファイルの読み込み\n",
    "\n",
    "[こちら](data/fruit.txt)にあるファイル（`fruit.txt`）には次のような内容が書かれている：\n",
    "\n",
    "```\n",
    "りんご,440\n",
    "バナナ,220\n",
    "みかん,330\n",
    "...\n",
    "```\n",
    "\n",
    "`fruit.txt`ファイルをダウンロードした上で，ファイルの内容を1行ずつ読み込み，果物名をキー，数字（価格）を値とする辞書データを作成しなさい．\n",
    "作成したデータは変数`fruits`に格納しなさい（※ ダウンロードは手動で行えばよい）．\n",
    "\n",
    "##### 関連する事項: [ファイルの読み込み](https://note.nkmk.me/python-file-io-open-with/), [str.split](https://note.nkmk.me/python-split-rsplit-splitlines-re/)"
   ]
  },
  {
   "cell_type": "code",
   "execution_count": null,
   "id": "397be20f-cd2e-4516-b14e-408b2c92a607",
   "metadata": {},
   "outputs": [],
   "source": [
    "fruits = {}\n",
    "\n",
    "# Write your code below\n"
   ]
  },
  {
   "cell_type": "markdown",
   "id": "91686cc3-f5d7-4734-8d96-60229b04ae9c",
   "metadata": {},
   "source": [
    "#### 練習43-B: 辞書のキーの一覧/文字列結合\n",
    "\n",
    "練習43-Aで作成した辞書`fruit`について，その辞書のキー（つまり果物名）をカンマ（,）で結合し，文字列として出力するコードを書きなさい．\n",
    "\n",
    "##### 関連する事項: [dict.keys](https://note.nkmk.me/python-dict-keys-values-items/), [str.join](https://note.nkmk.me/python-string-concat/)"
   ]
  },
  {
   "cell_type": "code",
   "execution_count": null,
   "id": "09c9122c-e369-4112-8c2e-7aae6ad2e5e0",
   "metadata": {},
   "outputs": [],
   "source": [
    "# Write your code below\n"
   ]
  },
  {
   "cell_type": "markdown",
   "id": "058f89ce-e0f4-4639-9461-1ef433a0d9c3",
   "metadata": {},
   "source": [
    "### ☆提出課題43\n",
    "\n",
    "`data/tokenized/1976`フォルダにある`01_子門真人_およげ!たいやきくん.tsv`ファイルを1行ずつ読み込み，単語の出現順に「活用形」を取り出しつなげることで，「およげ!たいやきくん」の歌詞を復元しなさい．\n",
    "\n",
    "##### 関連する事項: [ファイルの読み込み](https://note.nkmk.me/python-file-io-open-with/), [str.join](https://note.nkmk.me/python-string-concat/)\n"
   ]
  },
  {
   "cell_type": "code",
   "execution_count": null,
   "id": "b66934ec-5884-4061-9477-24dba8d72266",
   "metadata": {},
   "outputs": [],
   "source": [
    "import os\n",
    "\n",
    "# Write your code below\n"
   ]
  },
  {
   "cell_type": "markdown",
   "id": "b3670d9a-b689-4b97-931f-9148718c5134",
   "metadata": {},
   "source": [
    "---"
   ]
  },
  {
   "cell_type": "markdown",
   "id": "6f50a9ac-d2a4-4f98-995f-e9c0540fea57",
   "metadata": {},
   "source": [
    "## 課題44"
   ]
  },
  {
   "cell_type": "markdown",
   "id": "6960a946-b533-4d3a-915f-fe04574963df",
   "metadata": {},
   "source": [
    "#### 練習44-A: 辞書のループ/条件分岐\n",
    "\n",
    "変数`animals`は，動物とその分類に関する情報が格納された辞書である．\n",
    "\n",
    "```\n",
    "animals = {\n",
    "    \"犬\": \"哺乳類\",\n",
    "    \"カエル\": \"両生類\",\n",
    "    \"トカゲ\": \"爬虫類\",\n",
    "    \"猫\": \"哺乳類\",\n",
    "    \"ワニ\": \"爬虫類\"\n",
    "}\n",
    "```\n",
    "\n",
    "分類が哺乳類の動物だけを抽出し，その名前（動物名）を要素とするリスト`animal_names`を作成するコードを書きなさい．\n",
    "\n",
    "##### 関連する事項: [dict.items](https://note.nkmk.me/python-dict-keys-values-items/)"
   ]
  },
  {
   "cell_type": "code",
   "execution_count": null,
   "id": "933cbeb5-9084-4279-ade4-b4fa52a87426",
   "metadata": {},
   "outputs": [],
   "source": [
    "animals = {\n",
    "    \"犬\": \"哺乳類\",\n",
    "    \"カエル\": \"両生類\",\n",
    "    \"トカゲ\": \"爬虫類\",\n",
    "    \"猫\": \"哺乳類\",\n",
    "    \"ワニ\": \"爬虫類\"\n",
    "}\n",
    "\n",
    "animal_names = []\n",
    "\n",
    "# Write your code below\n"
   ]
  },
  {
   "cell_type": "markdown",
   "id": "5bf3db40-bf9c-430b-bb63-8902392b5767",
   "metadata": {},
   "source": [
    "#### 練習44-B: 条件つきカウント\n",
    "\n",
    "練習44-Aで用いた変数`animals`において，分類が「哺乳類」以外の動物の数をカウントするコードを書きなさい．\n",
    "\n",
    "##### 関連する事項: [dict.items](https://note.nkmk.me/python-dict-keys-values-items/)"
   ]
  },
  {
   "cell_type": "code",
   "execution_count": null,
   "id": "1928e4a3-75f3-4bbe-83cb-c583f2e82454",
   "metadata": {},
   "outputs": [],
   "source": [
    "animals = {\n",
    "    \"犬\": \"哺乳類\",\n",
    "    \"カエル\": \"両生類\",\n",
    "    \"トカゲ\": \"爬虫類\",\n",
    "    \"猫\": \"哺乳類\",\n",
    "    \"ワニ\": \"爬虫類\"\n",
    "}\n",
    "\n",
    "# Write your code below\n"
   ]
  },
  {
   "cell_type": "markdown",
   "id": "554be63e-4178-48b9-bbaa-018c2de049b8",
   "metadata": {},
   "source": [
    "### ☆提出課題44\n",
    "\n",
    "歌詞における代名詞の使用頻度を分析したい．\n",
    "1968年から2024年までのランキングに入っている曲の歌詞から代名詞を抽出し，その代名詞が歌詞中で用いられている曲数を辞書型で格納しなさい（代名詞をキー，曲数を値とする辞書データを作成しなさい）．\n",
    "また，使用頻度（使用されている曲数）が高い順に代名詞をソートし，その上位20件を表示しなさい．\n",
    "\n",
    "※ 代名詞を抽出する際，以下の指示語は無視すること．\n",
    "\n",
    "```\n",
    "STOPWORDS = ['これ', 'それ', 'あれ', 'どれ', 'ここ', 'そこ', 'あそこ', 'どこ']\n",
    "```\n",
    "\n",
    "##### 関連する事項: [range](https://note.nkmk.me/python-range-usage/), [os.listdir](https://note.nkmk.me/python-listdir-isfile-isdir/), [ファイルの読み込み](https://note.nkmk.me/python-file-io-open-with/), [dict.items](https://note.nkmk.me/python-dict-keys-values-items/), [dict.setdefault](https://note.nkmk.me/python-dict-setdefault/)"
   ]
  },
  {
   "cell_type": "code",
   "execution_count": null,
   "id": "f4fa2198-0c20-4802-8640-e42747383682",
   "metadata": {},
   "outputs": [],
   "source": [
    "import os\n",
    "\n",
    "STOPWORDS = ['これ', 'それ', 'あれ', 'どれ', 'ここ', 'そこ', 'あそこ', 'どこ']\n",
    "\n",
    "# Write your code below\n"
   ]
  },
  {
   "cell_type": "markdown",
   "id": "b3815a9d-6d39-4903-b5a0-39f2483da191",
   "metadata": {},
   "source": [
    "---"
   ]
  },
  {
   "cell_type": "markdown",
   "id": "713671fb-bb49-48bd-9eee-c0b9ac6ae358",
   "metadata": {},
   "source": [
    "## 課題45"
   ]
  },
  {
   "cell_type": "markdown",
   "id": "b7681080-6941-4aa6-982d-5f8437b7112f",
   "metadata": {},
   "source": [
    "#### 練習45-A: 辞書の辞書/ループの入れ子\n",
    "\n",
    "変数`sales`に格納されたデータは，年代ごとに商品A, B, Cが売れた個数を示している．\n",
    "各商品の合計販売数を求めるコードを書きなさい（例: Aは18個）．\n",
    "\n",
    "```\n",
    "sales = {\n",
    "    1990: {\"A\": 10, \"B\": 5},\n",
    "    2000: {\"A\": 3, \"C\": 8},\n",
    "    2010: {\"B\": 7, \"C\": 10},\n",
    "    2020: {\"A\": 5, \"B\": 2, \"C\": 3}\n",
    "}\n",
    "```\n",
    "\n",
    "##### 関連する事項: [dict.items](https://note.nkmk.me/python-dict-keys-values-items/), [dict.setdefault](https://note.nkmk.me/python-dict-setdefault/)"
   ]
  },
  {
   "cell_type": "code",
   "execution_count": null,
   "id": "33798f2d-3210-4b19-956f-e4a82bc88de7",
   "metadata": {},
   "outputs": [],
   "source": [
    "sales = {\n",
    "    1990: {\"A\": 10, \"B\": 5},\n",
    "    2000: {\"A\": 3, \"C\": 8},\n",
    "    2010: {\"B\": 7, \"C\": 10},\n",
    "    2020: {\"A\": 5, \"B\": 2, \"C\": 3}\n",
    "}\n",
    "\n",
    "# Write your code below\n"
   ]
  },
  {
   "cell_type": "markdown",
   "id": "00ec99e2-c6d0-4f43-a9c4-e5f48f16df76",
   "metadata": {},
   "source": [
    "#### 練習45-B: 辞書ソート再び\n",
    "\n",
    "練習45-Aで用いたデータにおいて，最も販売合計数が多い商品名とその数を出力するコードを書きなさい．\n",
    "\n",
    "##### 関連する事項: [dict.items](https://note.nkmk.me/python-dict-keys-values-items/), [dict.setdefault](https://note.nkmk.me/python-dict-setdefault/), [sorted](https://note.nkmk.me/python-dict-list-sort/)"
   ]
  },
  {
   "cell_type": "code",
   "execution_count": null,
   "id": "09f6f0bc-cba4-4086-941e-1caa113c4031",
   "metadata": {},
   "outputs": [],
   "source": [
    "# Write your code below\n"
   ]
  },
  {
   "cell_type": "markdown",
   "id": "62e4244d-acb5-4c54-80bf-cbed2d0d7592",
   "metadata": {},
   "source": [
    "### ☆提出課題45\n",
    "\n",
    "歌詞における言葉の使われ方は，社会や文化，時代ごとの流行を反映していると考えられる．\n",
    "そこでこの課題では，「僕」「君」といった一人称/二人称代名詞に着目したい．\n",
    "\n",
    "以下の`PRONOUNS`に記した一人称/二人称代名詞について，注目する代名詞が出現する曲数を年代別に分析し，結果を表示しなさい．\n",
    "なお，「年代」のグルーピングは1960年代，1970年代，1980年代，1990年代，2000年代，2010年代，2020年代としなさい．\n",
    "\n",
    "```\n",
    "PRONOUNS = [\"僕\", \"私\", \"僕ら\", \"俺\", \"わたし\", \"ぼく\", \"君\", \"あなた\", \"おまえ\", \"お前\", \"キミ\"]\n",
    "```\n",
    "\n",
    "##### 関連する事項: [os.listdir](https://note.nkmk.me/python-listdir-isfile-isdir/), [ファイルの読み込み](https://note.nkmk.me/python-file-io-open-with/), [リストのループ](https://qiita.com/motoki1990/items/d06fc7559546a8471392), [dict.items/keys](https://note.nkmk.me/python-dict-keys-values-items/), [dict.setdefault](https://note.nkmk.me/python-dict-setdefault/), [in](https://note.nkmk.me/python-in-basic/), [sorted](https://note.nkmk.me/python-dict-list-sort/)"
   ]
  },
  {
   "cell_type": "code",
   "execution_count": null,
   "id": "fcc667c8-9ded-4ed6-b527-24160b6b7c63",
   "metadata": {},
   "outputs": [],
   "source": [
    "import os\n",
    "\n",
    "PRONOUNS = [\"僕\", \"私\", \"僕ら\", \"俺\", \"わたし\", \"ぼく\", \"君\", \"あなた\", \"おまえ\", \"お前\", \"キミ\"]\n",
    "\n",
    "# Write your code below\n"
   ]
  }
 ],
 "metadata": {
  "kernelspec": {
   "display_name": "Python 3 (ipykernel)",
   "language": "python",
   "name": "python3"
  },
  "language_info": {
   "codemirror_mode": {
    "name": "ipython",
    "version": 3
   },
   "file_extension": ".py",
   "mimetype": "text/x-python",
   "name": "python",
   "nbconvert_exporter": "python",
   "pygments_lexer": "ipython3",
   "version": "3.12.11"
  }
 },
 "nbformat": 4,
 "nbformat_minor": 5
}
